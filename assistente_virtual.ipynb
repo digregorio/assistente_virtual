{
  "nbformat": 4,
  "nbformat_minor": 0,
  "metadata": {
    "colab": {
      "provenance": [],
      "authorship_tag": "ABX9TyMLBMHtM1nic1Z1fdSZCaLi",
      "include_colab_link": true
    },
    "kernelspec": {
      "name": "python3",
      "display_name": "Python 3"
    },
    "language_info": {
      "name": "python"
    }
  },
  "cells": [
    {
      "cell_type": "markdown",
      "metadata": {
        "id": "view-in-github",
        "colab_type": "text"
      },
      "source": [
        "<a href=\"https://colab.research.google.com/github/digregorio/assistente_virtual/blob/main/assistente_virtual.ipynb\" target=\"_parent\"><img src=\"https://colab.research.google.com/assets/colab-badge.svg\" alt=\"Open In Colab\"/></a>"
      ]
    },
    {
      "cell_type": "code",
      "source": [
        "!apt-get install python3-dev\n",
        "!apt-get install portaudio19-dev\n"
      ],
      "metadata": {
        "colab": {
          "base_uri": "https://localhost:8080/"
        },
        "id": "Tb9yujoDiqxt",
        "outputId": "da1885df-0567-4f7c-ebef-16aafd9eebbd"
      },
      "execution_count": 40,
      "outputs": [
        {
          "output_type": "stream",
          "name": "stdout",
          "text": [
            "Reading package lists... Done\n",
            "Building dependency tree       \n",
            "Reading state information... Done\n",
            "python3-dev is already the newest version (3.8.2-0ubuntu2).\n",
            "python3-dev set to manually installed.\n",
            "0 upgraded, 0 newly installed, 0 to remove and 19 not upgraded.\n",
            "Reading package lists... Done\n",
            "Building dependency tree       \n",
            "Reading state information... Done\n",
            "The following additional packages will be installed:\n",
            "  libportaudio2 libportaudiocpp0\n",
            "Suggested packages:\n",
            "  portaudio19-doc\n",
            "The following NEW packages will be installed:\n",
            "  libportaudio2 libportaudiocpp0 portaudio19-dev\n",
            "0 upgraded, 3 newly installed, 0 to remove and 19 not upgraded.\n",
            "Need to get 188 kB of archives.\n",
            "After this operation, 926 kB of additional disk space will be used.\n",
            "Get:1 http://archive.ubuntu.com/ubuntu focal/universe amd64 libportaudio2 amd64 19.6.0-1build1 [65.4 kB]\n",
            "Get:2 http://archive.ubuntu.com/ubuntu focal/universe amd64 libportaudiocpp0 amd64 19.6.0-1build1 [16.1 kB]\n",
            "Get:3 http://archive.ubuntu.com/ubuntu focal/universe amd64 portaudio19-dev amd64 19.6.0-1build1 [106 kB]\n",
            "Fetched 188 kB in 0s (587 kB/s)\n",
            "Selecting previously unselected package libportaudio2:amd64.\n",
            "(Reading database ... 128221 files and directories currently installed.)\n",
            "Preparing to unpack .../libportaudio2_19.6.0-1build1_amd64.deb ...\n",
            "Unpacking libportaudio2:amd64 (19.6.0-1build1) ...\n",
            "Selecting previously unselected package libportaudiocpp0:amd64.\n",
            "Preparing to unpack .../libportaudiocpp0_19.6.0-1build1_amd64.deb ...\n",
            "Unpacking libportaudiocpp0:amd64 (19.6.0-1build1) ...\n",
            "Selecting previously unselected package portaudio19-dev:amd64.\n",
            "Preparing to unpack .../portaudio19-dev_19.6.0-1build1_amd64.deb ...\n",
            "Unpacking portaudio19-dev:amd64 (19.6.0-1build1) ...\n",
            "Setting up libportaudio2:amd64 (19.6.0-1build1) ...\n",
            "Setting up libportaudiocpp0:amd64 (19.6.0-1build1) ...\n",
            "Setting up portaudio19-dev:amd64 (19.6.0-1build1) ...\n",
            "Processing triggers for libc-bin (2.31-0ubuntu9.9) ...\n"
          ]
        }
      ]
    },
    {
      "cell_type": "code",
      "source": [
        "!pip install speechrecognition"
      ],
      "metadata": {
        "colab": {
          "base_uri": "https://localhost:8080/"
        },
        "id": "ii6sfOpFgOqu",
        "outputId": "2c3c9d73-7ebd-44b8-afd3-e02a08f79444"
      },
      "execution_count": 41,
      "outputs": [
        {
          "output_type": "stream",
          "name": "stdout",
          "text": [
            "Looking in indexes: https://pypi.org/simple, https://us-python.pkg.dev/colab-wheels/public/simple/\n",
            "Requirement already satisfied: speechrecognition in /usr/local/lib/python3.8/dist-packages (3.9.0)\n",
            "Requirement already satisfied: requests>=2.26.0 in /usr/local/lib/python3.8/dist-packages (from speechrecognition) (2.28.2)\n",
            "Requirement already satisfied: idna<4,>=2.5 in /usr/local/lib/python3.8/dist-packages (from requests>=2.26.0->speechrecognition) (2.10)\n",
            "Requirement already satisfied: urllib3<1.27,>=1.21.1 in /usr/local/lib/python3.8/dist-packages (from requests>=2.26.0->speechrecognition) (1.26.14)\n",
            "Requirement already satisfied: certifi>=2017.4.17 in /usr/local/lib/python3.8/dist-packages (from requests>=2.26.0->speechrecognition) (2022.12.7)\n",
            "Requirement already satisfied: charset-normalizer<4,>=2 in /usr/local/lib/python3.8/dist-packages (from requests>=2.26.0->speechrecognition) (3.0.1)\n"
          ]
        }
      ]
    },
    {
      "cell_type": "code",
      "source": [
        "!pip install pyaudio"
      ],
      "metadata": {
        "colab": {
          "base_uri": "https://localhost:8080/"
        },
        "id": "6B-MEt-QiCgK",
        "outputId": "b469a661-c292-4106-a427-06d553cafedc"
      },
      "execution_count": 42,
      "outputs": [
        {
          "output_type": "stream",
          "name": "stdout",
          "text": [
            "Looking in indexes: https://pypi.org/simple, https://us-python.pkg.dev/colab-wheels/public/simple/\n",
            "Collecting pyaudio\n",
            "  Using cached PyAudio-0.2.13.tar.gz (46 kB)\n",
            "  Installing build dependencies ... \u001b[?25l\u001b[?25hdone\n",
            "  Getting requirements to build wheel ... \u001b[?25l\u001b[?25hdone\n",
            "  Preparing metadata (pyproject.toml) ... \u001b[?25l\u001b[?25hdone\n",
            "Building wheels for collected packages: pyaudio\n",
            "  Building wheel for pyaudio (pyproject.toml) ... \u001b[?25l\u001b[?25hdone\n",
            "  Created wheel for pyaudio: filename=PyAudio-0.2.13-cp38-cp38-linux_x86_64.whl size=69702 sha256=ce9bb533c1bbec829f61caf16b9fdcab4cfcfc930df36ebb9febe78f0145c9a4\n",
            "  Stored in directory: /root/.cache/pip/wheels/c9/64/0b/9a483698792349f565ecc45c5ee3f1efb2ce79464f6d9daf53\n",
            "Successfully built pyaudio\n",
            "Installing collected packages: pyaudio\n",
            "Successfully installed pyaudio-0.2.13\n"
          ]
        }
      ]
    },
    {
      "cell_type": "code",
      "source": [
        "!pip install pyttsx3"
      ],
      "metadata": {
        "colab": {
          "base_uri": "https://localhost:8080/"
        },
        "id": "cIoCluydguuS",
        "outputId": "39810e22-2968-45e1-e6bb-a46bffd984e6"
      },
      "execution_count": 43,
      "outputs": [
        {
          "output_type": "stream",
          "name": "stdout",
          "text": [
            "Looking in indexes: https://pypi.org/simple, https://us-python.pkg.dev/colab-wheels/public/simple/\n",
            "Requirement already satisfied: pyttsx3 in /usr/local/lib/python3.8/dist-packages (2.90)\n"
          ]
        }
      ]
    },
    {
      "cell_type": "code",
      "source": [
        "!pip install geocoder"
      ],
      "metadata": {
        "colab": {
          "base_uri": "https://localhost:8080/"
        },
        "id": "DZiawY1Qg2RD",
        "outputId": "8710c3a0-bf30-4e44-92a7-6293920d7aa8"
      },
      "execution_count": 44,
      "outputs": [
        {
          "output_type": "stream",
          "name": "stdout",
          "text": [
            "Looking in indexes: https://pypi.org/simple, https://us-python.pkg.dev/colab-wheels/public/simple/\n",
            "Requirement already satisfied: geocoder in /usr/local/lib/python3.8/dist-packages (1.38.1)\n",
            "Requirement already satisfied: future in /usr/local/lib/python3.8/dist-packages (from geocoder) (0.16.0)\n",
            "Requirement already satisfied: click in /usr/local/lib/python3.8/dist-packages (from geocoder) (8.1.3)\n",
            "Requirement already satisfied: requests in /usr/local/lib/python3.8/dist-packages (from geocoder) (2.28.2)\n",
            "Requirement already satisfied: six in /usr/local/lib/python3.8/dist-packages (from geocoder) (1.15.0)\n",
            "Requirement already satisfied: ratelim in /usr/local/lib/python3.8/dist-packages (from geocoder) (0.1.6)\n",
            "Requirement already satisfied: decorator in /usr/local/lib/python3.8/dist-packages (from ratelim->geocoder) (4.4.2)\n",
            "Requirement already satisfied: idna<4,>=2.5 in /usr/local/lib/python3.8/dist-packages (from requests->geocoder) (2.10)\n",
            "Requirement already satisfied: charset-normalizer<4,>=2 in /usr/local/lib/python3.8/dist-packages (from requests->geocoder) (3.0.1)\n",
            "Requirement already satisfied: urllib3<1.27,>=1.21.1 in /usr/local/lib/python3.8/dist-packages (from requests->geocoder) (1.26.14)\n",
            "Requirement already satisfied: certifi>=2017.4.17 in /usr/local/lib/python3.8/dist-packages (from requests->geocoder) (2022.12.7)\n"
          ]
        }
      ]
    },
    {
      "cell_type": "code",
      "execution_count": 45,
      "metadata": {
        "id": "1zUMDVfpf0VM"
      },
      "outputs": [],
      "source": [
        "import speech_recognition as sr\n",
        "import pyttsx3\n",
        "import webbrowser\n",
        "import geocoder\n",
        "import os\n",
        "import pyaudio\n"
      ]
    },
    {
      "cell_type": "code",
      "source": [
        "def recognize_speech():\n",
        "    r = sr.Recognizer()\n",
        "    with sr.Microphone() as source:\n",
        "        print(\"Speak now...\")\n",
        "        r.adjust_for_ambient_noise(source)\n",
        "        audio = r.listen(source)\n",
        "    try:\n",
        "        text = r.recognize_google(audio, language='en-US')\n",
        "        print(\"You said: \" + text)\n",
        "        return text.lower()\n",
        "    except sr.UnknownValueError:\n",
        "        print(\"Sorry, I could not understand your voice.\")\n",
        "        return \"\"\n",
        "    except sr.RequestError as e:\n",
        "        print(\"Could not request results from Google Speech Recognition service; {0}\".format(e))\n",
        "        return \"\"\n",
        "\n",
        "def text_to_speech(text):\n",
        "    engine = pyttsx3.init()\n",
        "    engine.setProperty('rate', 150)\n",
        "    engine.say(text)\n",
        "    engine.runAndWait()\n"
      ],
      "metadata": {
        "id": "5OfthQ5If8Y2"
      },
      "execution_count": 46,
      "outputs": []
    },
    {
      "cell_type": "code",
      "source": [
        "def search_wikipedia(text):\n",
        "    url = \"https://en.wikipedia.org/wiki/\" + text.replace(\" \", \"_\")\n",
        "    webbrowser.open(url)\n",
        "\n",
        "def search_youtube(text):\n",
        "    url = \"https://www.youtube.com/results?search_query=\" + text.replace(\" \", \"+\")\n",
        "    webbrowser.open(url)\n",
        "\n",
        "def get_nearest_pharmacy():\n",
        "    g = geocoder.ip('me')\n",
        "    latlng = g.latlng\n",
        "    url = \"https://www.google.com/maps/search/pharmacy/@\" + str(latlng[0]) + \",\" + str(latlng[1]) + \",15z\"\n",
        "    webbrowser.open(url)\n"
      ],
      "metadata": {
        "id": "2m04bBtqgB4N"
      },
      "execution_count": 47,
      "outputs": []
    },
    {
      "cell_type": "code",
      "source": [
        "def main():\n",
        "    while True:\n",
        "        text = recognize_speech()\n",
        "        if text.startswith(\"search wikipedia for\"):\n",
        "            search_wikipedia(text.replace(\"search wikipedia for\", \"\").strip())\n",
        "            text_to_speech(\"Here is what I found on Wikipedia.\")\n",
        "        elif text.startswith(\"search youtube for\"):\n",
        "            search_youtube(text.replace(\"search youtube for\", \"\").strip())\n",
        "            text_to_speech(\"Here is what I found on YouTube.\")\n"
      ],
      "metadata": {
        "id": "A1fVVn4fhDFd"
      },
      "execution_count": 48,
      "outputs": []
    }
  ]
}